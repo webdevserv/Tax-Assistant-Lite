{
  "nbformat": 4,
  "nbformat_minor": 0,
  "metadata": {
    "colab": {
      "provenance": [],
      "gpuType": "T4"
    },
    "kernelspec": {
      "name": "python3",
      "display_name": "Python 3"
    },
    "language_info": {
      "name": "python"
    },
    "accelerator": "GPU"
  },
  "cells": [
    {
      "cell_type": "markdown",
      "source": [
        "**Tax Assistant Lite is an AI‑powered tool for small CPA firms that automates transaction categorization, flags potential deductions, and generates client‑friendly tax summaries. Clients securely upload CSV files, and the system organizes them in a structured Google Drive folder by client, year, and month, producing both on‑screen insights and downloadable PDF reports.**"
      ],
      "metadata": {
        "id": "JE5yGiX3E4gG"
      }
    },
    {
      "cell_type": "markdown",
      "source": [
        "/taxassistantlite\n",
        "    /client\n",
        "        /client_pseudo\n",
        "            /2025\n",
        "                /february\n",
        "                    raw_uploads/\n",
        "                        2025-02-15_transactions.csv\n",
        "                    processed_reports/\n",
        "                        2025-02-15_tax_report.pdf\n"
      ],
      "metadata": {
        "id": "ecEtTZUzE1iG"
      }
    },
    {
      "cell_type": "code",
      "source": [
        "# === 1. Install dependencies ===\n",
        "!pip install pandas gradio fpdf transformers datasets accelerate --quiet"
      ],
      "metadata": {
        "colab": {
          "base_uri": "https://localhost:8080/"
        },
        "id": "wLdZRFWKD57u",
        "outputId": "364ca216-b553-4b4e-e96b-fc330f683caa"
      },
      "execution_count": 3,
      "outputs": [
        {
          "output_type": "stream",
          "name": "stdout",
          "text": [
            "  Preparing metadata (setup.py) ... \u001b[?25l\u001b[?25hdone\n",
            "  Building wheel for fpdf (setup.py) ... \u001b[?25l\u001b[?25hdone\n"
          ]
        }
      ]
    },
    {
      "cell_type": "code",
      "source": [
        "from google.colab import drive\n",
        "import os\n",
        "from datetime import datetime\n",
        "\n",
        "# 1. Mount Google Drive\n",
        "drive.mount('/content/drive')\n",
        "\n",
        "# 2. Define base path with 'client'\n",
        "base_path = '/content/drive/MyDrive/taxassistantlite/clients/client_pseudo/2025/february'\n",
        "\n",
        "# 3. Create subfolders if they don't exist\n",
        "raw_path = os.path.join(base_path, 'raw_uploads')\n",
        "processed_path = os.path.join(base_path, 'processed_reports')\n",
        "\n",
        "os.makedirs(raw_path, exist_ok=True)\n",
        "os.makedirs(processed_path, exist_ok=True)\n",
        "\n",
        "print(f\"Raw uploads folder: {raw_path}\")\n",
        "print(f\"Processed reports folder: {processed_path}\")\n",
        "\n",
        "# 4. Example: Save an uploaded CSV to the correct folder\n",
        "def save_uploaded_csv(uploaded_file):\n",
        "    today = datetime.today().strftime('%Y-%m-%d')\n",
        "    save_path = os.path.join(raw_path, f\"{today}_transactions.csv\")\n",
        "    with open(save_path, 'wb') as f:\n",
        "        f.write(uploaded_file.read())\n",
        "    print(f\"File saved to: {save_path}\")\n"
      ],
      "metadata": {
        "colab": {
          "base_uri": "https://localhost:8080/"
        },
        "id": "NoqxOGIoFMaf",
        "outputId": "da979845-9215-4c09-fe51-3dfb6f2553fd"
      },
      "execution_count": 2,
      "outputs": [
        {
          "output_type": "stream",
          "name": "stdout",
          "text": [
            "Drive already mounted at /content/drive; to attempt to forcibly remount, call drive.mount(\"/content/drive\", force_remount=True).\n",
            "Raw uploads folder: /content/drive/MyDrive/taxassistantlite/client/client_pseudo/2025/february/raw_uploads\n",
            "Processed reports folder: /content/drive/MyDrive/taxassistantlite/client/client_pseudo/2025/february/processed_reports\n"
          ]
        }
      ]
    },
    {
      "cell_type": "code",
      "source": [
        "import pandas as pd\n",
        "import gradio as gr\n",
        "from fpdf import FPDF\n",
        "import re\n",
        "\n",
        "# --- Keyword banks ---\n",
        "business_keywords = [\n",
        "    \"purchase\", \"purchase of\", \"bought\", \"buy\", \"acquired\", \"supplies\", \"materials\",\n",
        "    \"consumables\", \"equipment\", \"tools\", \"parts\", \"components\", \"accessories\",\n",
        "    \"maintenance\", \"repair\", \"service\", \"subscription\", \"license\", \"software\",\n",
        "    \"training\", \"course\", \"seminar\", \"conference\", \"certification\",\n",
        "    \"travel\", \"mileage\", \"parking\", \"toll\", \"hotel\", \"accommodation\", \"transport\", \"delivery\",\n",
        "    \"insurance\", \"premium\", \"rent\", \"lease\", \"utilities\", \"internet\", \"phone\",\n",
        "    \"postage\", \"courier\", \"shipping\", \"packaging\", \"printing\", \"marketing\", \"advertising\",\n",
        "    \"inventory\", \"stock\", \"merchandise\", \"goods\", \"raw\", \"ingredient\", \"safety\", \"ppe\"\n",
        "]\n",
        "\n",
        "personal_keywords = [\n",
        "    \"mortgage\", \"mortgage interest\", \"property tax\", \"real estate tax\",\n",
        "    \"tuition\", \"student loan interest\", \"education expense\", \"medical expense\",\n",
        "    \"donation\", \"charity\", \"uniform\", \"tools\", \"supplies\", \"home office\",\n",
        "    \"internet\", \"phone\", \"continuing education\", \"childcare\", \"energy credit\"\n",
        "]\n",
        "\n",
        "# --- Non-deductible patterns ---\n",
        "NON_DEDUCTIBLE_PATTERNS = [\n",
        "    r\"\\bowner(?:'s)?\\s*draw\\b\", r\"\\bdividend\\b\", r\"\\bloan\\s*repay(?:ment)?\\b\",\n",
        "    r\"\\bpersonal\\b\", r\"\\bfine\\b\", r\"\\bpenalty\\b\", r\"\\btraffic\\b\", r\"\\bspeeding\\b\",\n",
        "    r\"\\bincome\\s*tax\\b\", r\"\\bcorporation\\s*tax\\b\", r\"\\birpf\\b\", r\"\\biva\\b\", r\"\\bwithholding\\b\"\n",
        "]\n",
        "\n",
        "def _is_non_deductible(text: str) -> bool:\n",
        "    return any(re.search(pat, text) for pat in NON_DEDUCTIBLE_PATTERNS)\n",
        "\n",
        "# --- Categorization ---\n",
        "def categorize_transactions(df):\n",
        "    categories = []\n",
        "    for desc in df['Description'].str.lower():\n",
        "        if any(w in desc for w in [\"travel\", \"hotel\", \"taxi\", \"uber\", \"bus\", \"train\", \"flight\"]):\n",
        "            categories.append(\"Travel\")\n",
        "        elif any(w in desc for w in [\"purchase\", \"buy\", \"acquired\", \"supplies\", \"materials\", \"tools\", \"equipment\"]):\n",
        "            categories.append(\"Supplies/Materials\")\n",
        "        elif any(w in desc for w in [\"software\", \"subscription\", \"license\"]):\n",
        "            categories.append(\"Software\")\n",
        "        elif any(w in desc for w in [\"training\", \"course\", \"seminar\", \"conference\", \"certification\"]):\n",
        "            categories.append(\"Training\")\n",
        "        elif any(w in desc for w in [\"client payment\", \"invoice\", \"sale\"]):\n",
        "            categories.append(\"Income\")\n",
        "        else:\n",
        "            categories.append(\"Other\")\n",
        "    df['Category'] = categories\n",
        "    return df\n",
        "\n",
        "# --- Deduction detection ---\n",
        "def find_deductions(df, profile_type=\"business\"):\n",
        "    if profile_type == \"business\":\n",
        "        keywords = set(business_keywords)\n",
        "    elif profile_type == \"personal\":\n",
        "        keywords = set(personal_keywords)\n",
        "    else:\n",
        "        keywords = set()\n",
        "\n",
        "    flags = []\n",
        "    for _, row in df.iterrows():\n",
        "        amt = float(row.get('Amount', 0) or 0)\n",
        "        text = f\"{str(row.get('Category', ''))} {str(row.get('Description', ''))}\".lower()\n",
        "\n",
        "        # Treat any non-income as expense\n",
        "        if amt > 0 and row['Category'].lower() != \"income\":\n",
        "            amt = -amt\n",
        "\n",
        "        if amt < 0 and not _is_non_deductible(text) and any(kw in text for kw in keywords):\n",
        "            flags.append(\"Potential Deduction\")\n",
        "        else:\n",
        "            flags.append(\"\")\n",
        "    df[\"Deduction_Flag\"] = flags\n",
        "    return df\n",
        "\n",
        "# --- Summary ---\n",
        "def generate_summary(df):\n",
        "    flagged = df['Deduction_Flag'].astype(str).str.strip() != \"\"\n",
        "    total_expenses = df[flagged]['Amount'].sum()\n",
        "    return f\"Total potential deductible expenses: {total_expenses:.2f} USD\"\n",
        "\n",
        "# --- PDF ---\n",
        "def create_pdf(summary, df):\n",
        "    pdf = FPDF()\n",
        "    pdf.add_page()\n",
        "    pdf.set_font(\"Arial\", size=12)\n",
        "    pdf.multi_cell(0, 10, \"Tax Assistant Lite Report\\n\")\n",
        "    pdf.multi_cell(0, 10, summary)\n",
        "    pdf.multi_cell(0, 10, \"\\nTransactions:\\n\")\n",
        "    for _, row in df.iterrows():\n",
        "        pdf.multi_cell(0, 8, f\"{row['Date']} - {row['Description']} - {row['Amount']} USD - {row['Category']} - {row['Deduction_Flag']}\")\n",
        "    pdf.output(\"tax_report.pdf\")\n",
        "    return \"tax_report.pdf\"\n",
        "\n",
        "# --- Main process ---\n",
        "def process_file(file, profile_type):\n",
        "    df = pd.read_csv(file.name)\n",
        "    df = categorize_transactions(df)\n",
        "    df = find_deductions(df, profile_type=profile_type)\n",
        "    summary = generate_summary(df)\n",
        "    pdf_path = create_pdf(summary, df)\n",
        "    return summary, pdf_path\n",
        "\n",
        "# --- Gradio UI ---\n",
        "demo = gr.Interface(\n",
        "    fn=process_file,\n",
        "    inputs=[\n",
        "        gr.File(label=\"Upload CSV with Date, Description, Amount\"),\n",
        "        gr.Radio([\"business\", \"personal\"], label=\"Profile Type\")\n",
        "    ],\n",
        "    outputs=[\n",
        "        gr.Textbox(label=\"Summary\"),\n",
        "        gr.File(label=\"Download PDF Report\")\n",
        "    ],\n",
        "    title=\"Tax Assistant Lite\",\n",
        "    description=\"Upload your transactions CSV to get AI categorization, deduction flags, and a PDF report.\"\n",
        ")\n",
        "\n",
        "demo.launch()\n"
      ],
      "metadata": {
        "colab": {
          "base_uri": "https://localhost:8080/",
          "height": 646
        },
        "id": "jli41KEMWVoV",
        "outputId": "df28bd00-3fff-4240-f93f-389576a8d59c"
      },
      "execution_count": 10,
      "outputs": [
        {
          "output_type": "stream",
          "name": "stdout",
          "text": [
            "It looks like you are running Gradio on a hosted Jupyter notebook, which requires `share=True`. Automatically setting `share=True` (you can turn this off by setting `share=False` in `launch()` explicitly).\n",
            "\n",
            "Colab notebook detected. To show errors in colab notebook, set debug=True in launch()\n",
            "* Running on public URL: https://688411fbbf7265d322.gradio.live\n",
            "\n",
            "This share link expires in 1 week. For free permanent hosting and GPU upgrades, run `gradio deploy` from the terminal in the working directory to deploy to Hugging Face Spaces (https://huggingface.co/spaces)\n"
          ]
        },
        {
          "output_type": "display_data",
          "data": {
            "text/plain": [
              "<IPython.core.display.HTML object>"
            ],
            "text/html": [
              "<div><iframe src=\"https://688411fbbf7265d322.gradio.live\" width=\"100%\" height=\"500\" allow=\"autoplay; camera; microphone; clipboard-read; clipboard-write;\" frameborder=\"0\" allowfullscreen></iframe></div>"
            ]
          },
          "metadata": {}
        },
        {
          "output_type": "execute_result",
          "data": {
            "text/plain": []
          },
          "metadata": {},
          "execution_count": 10
        }
      ]
    }
  ]
}